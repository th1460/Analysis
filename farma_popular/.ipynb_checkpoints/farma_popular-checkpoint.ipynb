{
 "cells": [
  {
   "cell_type": "markdown",
   "metadata": {},
   "source": [
    "# farmácias populares"
   ]
  },
  {
   "cell_type": "markdown",
   "metadata": {},
   "source": [
    "<p align=\"justify\">No [portal brasileiro de dados abertos](http://dados.gov.br), há um conjunto de dados com informações sobre os estabelecimentos que aderiram ao programa [*Aqui tem Farmácias Popular*](http://dados.gov.br/dataset/farmacia_popular_estabelecimento). Usaremos a biblioteca [pandas](https://pandas.pydata.org) do Python para algumas análises descritivas e a biblioteca [folium](https://github.com/python-visualization/folium) para plotar a localização dos estabelecimentos. Todo o documento foi gerado no [Jupyter](http://jupyter.org).</p>"
   ]
  },
  {
   "cell_type": "markdown",
   "metadata": {},
   "source": [
    "## lendo os dados"
   ]
  },
  {
   "cell_type": "code",
   "execution_count": 135,
   "metadata": {},
   "outputs": [],
   "source": [
    "import pandas"
   ]
  },
  {
   "cell_type": "code",
   "execution_count": null,
   "metadata": {},
   "outputs": [],
   "source": [
    "# lendos os dados da url\n",
    "\n",
    "dados = pandas.read_csv(\"http://i3geo.saude.gov.br/i3geo/ogc.php?service=WFS&version=1.0.0&request=GetFeature&typeName=farmacia_popular_estabelecimento&outputFormat=CSV\")"
   ]
  },
  {
   "cell_type": "code",
   "execution_count": null,
   "metadata": {},
   "outputs": [],
   "source": [
    "import sqlite3"
   ]
  },
  {
   "cell_type": "code",
   "execution_count": null,
   "metadata": {},
   "outputs": [],
   "source": [
    "# criando uma base em sqlite e estabelecendo conecção\n",
    "\n",
    "conn = sqlite3.connect(\"farmacia_pop.db\")"
   ]
  },
  {
   "cell_type": "code",
   "execution_count": null,
   "metadata": {},
   "outputs": [],
   "source": [
    "# salvando a tabela\n",
    "\n",
    "dados.to_sql(\"estabelecimentos\", conn, if_exists = \"replace\")"
   ]
  },
  {
   "cell_type": "markdown",
   "metadata": {},
   "source": [
    "## consultas via SQL"
   ]
  },
  {
   "cell_type": "markdown",
   "metadata": {},
   "source": [
    "### quantitativo por estados do sudeste\n",
    "\n",
    "Na tabela abaixo, através de uma query, verica-se o número de estabelecimentos credenciados ao programa nos 4 estados da região sudeste."
   ]
  },
  {
   "cell_type": "code",
   "execution_count": null,
   "metadata": {},
   "outputs": [],
   "source": [
    "import tabulate"
   ]
  },
  {
   "cell_type": "code",
   "execution_count": null,
   "metadata": {},
   "outputs": [],
   "source": [
    "print(tabulate.tabulate(pandas.read_sql_query(\"SELECT uf, COUNT(*) AS n, COUNT(uf) * 100.0 /(SELECT COUNT(*) FROM estabelecimentos WHERE uf IN ('SP', 'RJ', 'MG', 'ES')) AS '%' FROM estabelecimentos WHERE uf IN ('SP', 'RJ', 'MG', 'ES') GROUP BY uf\", conn, index_col = ['uf']), headers = ['uf', 'n', '%'], tablefmt=\"grid\"))"
   ]
  },
  {
   "cell_type": "markdown",
   "metadata": {},
   "source": [
    "## trabalhando com mapas"
   ]
  },
  {
   "cell_type": "markdown",
   "metadata": {},
   "source": [
    "Abaixo temos a distribuição espacial das farmácias populares no centro do Rio de Janeiro."
   ]
  },
  {
   "cell_type": "code",
   "execution_count": null,
   "metadata": {},
   "outputs": [],
   "source": [
    "import folium"
   ]
  },
  {
   "cell_type": "code",
   "execution_count": null,
   "metadata": {},
   "outputs": [],
   "source": [
    "# filtrando estabelecimentos no centro do Rio de Janeiro\n",
    "\n",
    "dados_rj = dados[(dados['no_cidade'] == 'RIO DE JANEIRO') & \n",
    "                 (dados['no_bairro_farmacia'] == 'CENTRO')]"
   ]
  },
  {
   "cell_type": "code",
   "execution_count": null,
   "metadata": {},
   "outputs": [],
   "source": [
    "# mapa\n",
    "\n",
    "map_osm = folium.Map(location = [-22.9005452, -43.1956282], zoom_start = 14)"
   ]
  },
  {
   "cell_type": "code",
   "execution_count": null,
   "metadata": {},
   "outputs": [],
   "source": [
    "# marcando os pontos onde se encontram os estabelecimentos\n",
    "\n",
    "for _, x in dados_rj.iterrows():\n",
    "    folium.Marker(location = [x['lat'], x['long']], popup = x['ds_endereco_farmacia']).add_to(map_osm)"
   ]
  },
  {
   "cell_type": "code",
   "execution_count": null,
   "metadata": {},
   "outputs": [],
   "source": [
    "map_osm"
   ]
  },
  {
   "cell_type": "markdown",
   "metadata": {},
   "source": [
    "O número destes estabelecimentos no centro do Rio é de 53."
   ]
  },
  {
   "cell_type": "code",
   "execution_count": 90,
   "metadata": {},
   "outputs": [
    {
     "data": {
      "text/plain": [
       "no_bairro_farmacia\n",
       "CENTRO             53\n",
       "CAMPO GRANDE       47\n",
       "TIJUCA             43\n",
       "COPACABANA         33\n",
       "BARRA DA TIJUCA    26\n",
       "dtype: int64"
      ]
     },
     "execution_count": 90,
     "metadata": {},
     "output_type": "execute_result"
    }
   ],
   "source": [
    "dados[(dados['no_cidade'] == 'RIO DE JANEIRO')].groupby('no_bairro_farmacia').size().sort_values(ascending=False).head(5)"
   ]
  },
  {
   "cell_type": "markdown",
   "metadata": {},
   "source": [
    "A JAMYR VASCONCELLOS S.A. é a empresa que possui mais estabelecimentos no centro do Rio."
   ]
  },
  {
   "cell_type": "code",
   "execution_count": 96,
   "metadata": {},
   "outputs": [
    {
     "data": {
      "text/plain": [
       "no_farmacia\n",
       "JAMYR VASCONCELLOS S.A.            8\n",
       "DROGARIAS PACHECO SA               5\n",
       "SENDAS DISTRIBUIDORA S/A           4\n",
       "DROGARIA SÃO PAULO S.A.            3\n",
       "EMPREENDIMENTOS PAGUE MENOS S/A    2\n",
       "dtype: int64"
      ]
     },
     "execution_count": 96,
     "metadata": {},
     "output_type": "execute_result"
    }
   ],
   "source": [
    "dados[(dados['no_cidade'] == 'RIO DE JANEIRO') & \n",
    "      (dados['no_bairro_farmacia'] == 'CENTRO')].groupby('no_farmacia').size().sort_values(ascending=False).head(5)"
   ]
  },
  {
   "cell_type": "markdown",
   "metadata": {},
   "source": [
    "Considerando todo o país a RAIA DROGASIL S/A é que apresenta mais estabelecimentos vinculados ao programa."
   ]
  },
  {
   "cell_type": "code",
   "execution_count": 97,
   "metadata": {},
   "outputs": [
    {
     "data": {
      "text/plain": [
       "no_farmacia\n",
       "RAIA DROGASIL S/A                       439\n",
       "COMERCIO DE MEDICAMENTOS BRAIR LTDA     344\n",
       "EMPREENDIMENTOS PAGUE MENOS S/A         281\n",
       "CIA LATINO AMERICANA DE MEDICAMENTOS    245\n",
       "EMPREENDIMENTOS PAGUE MENOS S.A.        235\n",
       "dtype: int64"
      ]
     },
     "execution_count": 97,
     "metadata": {},
     "output_type": "execute_result"
    }
   ],
   "source": [
    "dados.groupby('no_farmacia').size().sort_values(ascending=False).head(5)"
   ]
  }
 ],
 "metadata": {
  "kernelspec": {
   "display_name": "Python 3",
   "language": "python",
   "name": "python3"
  },
  "language_info": {
   "codemirror_mode": {
    "name": "ipython",
    "version": 3
   },
   "file_extension": ".py",
   "mimetype": "text/x-python",
   "name": "python",
   "nbconvert_exporter": "python",
   "pygments_lexer": "ipython3",
   "version": "3.6.1"
  }
 },
 "nbformat": 4,
 "nbformat_minor": 2
}
